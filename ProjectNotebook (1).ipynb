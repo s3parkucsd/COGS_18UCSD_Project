{
 "cells": [
  {
   "cell_type": "markdown",
   "metadata": {},
   "source": [
    "# Project Description"
   ]
  },
  {
   "cell_type": "markdown",
   "metadata": {},
   "source": [
    "In my project, I made a Chatbot that would administer a quiz. The Chatbox will total up the number of questions the user got correct and depending on the score, the user will receive a short statement. Here's a step by step on what would happen: \n",
    "\n",
    "    -Chatbot will introduce itself. Will ask the user if they would want to begin the test and will ask a question asking \n",
    "    the user for their prediction on how they think they will do. \n",
    "    \n",
    "    -Chatbot will ask 5 questions and the user will answer them. During the questions, the user will be told if their \n",
    "    answers are correct or incorrect. All questions were derived from my friends who didn't know what the questions would\n",
    "    be used for.\n",
    "    \n",
    "    -At the end of the quiz, the user will see a summary of the quiz including the correct answers, their inputs, their \n",
    "    total score, and their prediction from the beginning of the quiz. The user will also receive a short statement based on \n",
    "    the number of questions they answered correctly. \n",
    "    \n",
    "    -Chatbot will ask if the user would like to take the quiz a second time. If the user says yes the quiz will restart, if\n",
    "    not the chat will be over. \n",
    "    \n",
    "This is the basic gist of the bot. If I had more time I think I would make it so that there are a lot of possible questions and it'll be randomized each time so that if the user wanted to retake it the questions would be different. Additionally, I think I would make it so that the messages given for each scores also had more vairiety and could be randomized each time.\n",
    "\n",
    "Overall this bot was very fun to make, though challenging at times. I feel like I got a better understanding about all the code we learned throughout the quarter and I am more comfortable using it.\n",
    "\n",
    "Frederick is a sassy spunky little bot, though simple, I hope you enjoy the conversation with him :D\n",
    "\n",
    "Note that projects should be self-sufficient, so make sure to provide enough information and context here for someone to understand what you are doing in your project, and why. "
   ]
  },
  {
   "cell_type": "markdown",
   "metadata": {},
   "source": [
    "## Project Code\n",
    "\n",
    "If it makes sense for your project, you can have code and outputs here in the notebook as well."
   ]
  },
  {
   "cell_type": "code",
   "execution_count": 1,
   "metadata": {},
   "outputs": [],
   "source": [
    "from functions import *\n",
    "from test_functions import test_prediction_question, test_checking_answer, test_final_score"
   ]
  },
  {
   "cell_type": "code",
   "execution_count": null,
   "metadata": {
    "scrolled": false
   },
   "outputs": [
    {
     "name": "stdout",
     "output_type": "stream",
     "text": [
      "Hello! My name is Frederick ԅ (≖‿≖ԅ) ! Want to see how smart you are? \n",
      "There are 5 questions to answer.All questions accurately measures intelligence.Afterwards, you'll be judged based off how many you get correct!\n"
     ]
    }
   ],
   "source": [
    "# Do a bunch of things.\n",
    "quiz_time()"
   ]
  },
  {
   "cell_type": "code",
   "execution_count": null,
   "metadata": {
    "scrolled": false
   },
   "outputs": [],
   "source": [
    "# test it out\n",
    "!pytest test_functions.py"
   ]
  },
  {
   "cell_type": "markdown",
   "metadata": {},
   "source": [
    "#### Extra Credit (*optional*)\n",
    "\n",
    "Replace all of this text with a brief explanation (~3 sentences) of: \n",
    "1. I have zero prior Python knowledge coming into this class. I also have no experience with coding of any language. This class was a little challenging as I had to put in a lot of effort to grasp the concepts (spending hours at coding lab each week thank you TA's!!), howevever, it was very enriching and I really enjoyed learning. \n",
    "\n",
    "2. I had originally planned on just making an extended version of a Chatbot since it was something we had already done. However, I thought I would take what I knew and make something new: a quiz. Though it's not the most complex function nor the most difficult to make, I really spent a long time working through the code and I really feel like I learned a lot through the process. I also uploaded my files to Github. Lastly, for tests, I had used monkeypatch which I had to look up online. I didn't quite know how to test for input functions and so I learned that I could use monkeypatch. "
   ]
  }
 ],
 "metadata": {
  "kernelspec": {
   "display_name": "Python 3 (ipykernel)",
   "language": "python",
   "name": "python3"
  },
  "language_info": {
   "codemirror_mode": {
    "name": "ipython",
    "version": 3
   },
   "file_extension": ".py",
   "mimetype": "text/x-python",
   "name": "python",
   "nbconvert_exporter": "python",
   "pygments_lexer": "ipython3",
   "version": "3.9.5"
  }
 },
 "nbformat": 4,
 "nbformat_minor": 2
}
